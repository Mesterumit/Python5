{
 "cells": [
  {
   "cell_type": "markdown",
   "id": "f3094367",
   "metadata": {},
   "source": [
    "## Conditions"
   ]
  },
  {
   "cell_type": "markdown",
   "id": "8aaa1864",
   "metadata": {},
   "source": [
    "if,else & elif"
   ]
  },
  {
   "cell_type": "code",
   "execution_count": 2,
   "id": "b63a2573",
   "metadata": {},
   "outputs": [],
   "source": [
    "num=0\n",
    "\n",
    "if num > 0 :\n",
    "    print('Grater than zero')"
   ]
  },
  {
   "cell_type": "code",
   "execution_count": 3,
   "id": "b6e85550",
   "metadata": {},
   "outputs": [
    {
     "data": {
      "text/plain": [
       "False"
      ]
     },
     "execution_count": 3,
     "metadata": {},
     "output_type": "execute_result"
    }
   ],
   "source": [
    "num >0"
   ]
  },
  {
   "cell_type": "code",
   "execution_count": null,
   "id": "ad64f0aa",
   "metadata": {},
   "outputs": [],
   "source": [
    "if num >0 :\n",
    "    print('Greater than zero')\n",
    "\n",
    "elif num == 0:\n",
    "    print('Equal to zero')\n",
    "\n",
    "else:\n",
    "    prtin('Not greater than zero')        "
   ]
  },
  {
   "cell_type": "markdown",
   "id": "4b45184f",
   "metadata": {},
   "source": [
    "Nester Conditions"
   ]
  },
  {
   "cell_type": "code",
   "execution_count": null,
   "id": "05b26f51",
   "metadata": {},
   "outputs": [],
   "source": [
    "num = 3\n",
    "\n",
    "if num >0:\n",
    "    if num % 2 == 0:\n",
    "        print('Positive even number')\n",
    "    else:\n",
    "        print('Positive odd number')  \n",
    "elif num == 0:\n",
    "    print('Equal to zero')\n",
    "else:\n",
    "    print('Negative number')              \n"
   ]
  },
  {
   "cell_type": "markdown",
   "id": "21d000bd",
   "metadata": {},
   "source": [
    "## Loops"
   ]
  },
  {
   "cell_type": "markdown",
   "id": "70d45036",
   "metadata": {},
   "source": [
    "SYNTAX"
   ]
  },
  {
   "cell_type": "markdown",
   "id": "5058bfc9",
   "metadata": {},
   "source": [
    "WHILE < CONDITION IS TRUE>:\n",
    "    body of loop\n",
    "\n",
    "for <item> in <list>:\n",
    "    body of loop    "
   ]
  },
  {
   "cell_type": "code",
   "execution_count": 4,
   "id": "c623ab44",
   "metadata": {},
   "outputs": [
    {
     "name": "stdout",
     "output_type": "stream",
     "text": [
      "Python\n",
      " is\n",
      "awesome\n"
     ]
    }
   ],
   "source": [
    "my_List =['Python',' is', 'awesome']\n",
    "\n",
    "for word in my_List:\n",
    "    print(word)"
   ]
  },
  {
   "cell_type": "code",
   "execution_count": 5,
   "id": "53c194ab",
   "metadata": {},
   "outputs": [
    {
     "name": "stdout",
     "output_type": "stream",
     "text": [
      "Count is : 0\n",
      "Count is : 1\n",
      "Count is : 2\n",
      "Count is : 3\n",
      "Count is : 4\n"
     ]
    }
   ],
   "source": [
    "count = 0\n",
    "\n",
    "while count < 5:\n",
    "    print(f'Count is : {count}')\n",
    "    count +=1"
   ]
  },
  {
   "cell_type": "markdown",
   "id": "6b6a3636",
   "metadata": {},
   "source": [
    "## range() and enumeration"
   ]
  },
  {
   "cell_type": "code",
   "execution_count": 6,
   "id": "cc9b7e78",
   "metadata": {},
   "outputs": [
    {
     "name": "stdout",
     "output_type": "stream",
     "text": [
      "0\n",
      "1\n",
      "2\n",
      "3\n",
      "4\n"
     ]
    }
   ],
   "source": [
    "for i in range(5):\n",
    "    print(i)"
   ]
  },
  {
   "cell_type": "code",
   "execution_count": null,
   "id": "1c95e543",
   "metadata": {},
   "outputs": [],
   "source": [
    "for i in range(3,9):\n",
    "    print(i)"
   ]
  },
  {
   "cell_type": "code",
   "execution_count": 9,
   "id": "4af89710",
   "metadata": {},
   "outputs": [
    {
     "name": "stdout",
     "output_type": "stream",
     "text": [
      "4\n",
      "6\n",
      "8\n",
      "10\n",
      "12\n"
     ]
    }
   ],
   "source": [
    "for i in range(4,13,2):\n",
    "    print(i)"
   ]
  },
  {
   "cell_type": "code",
   "execution_count": 10,
   "id": "d5264f84",
   "metadata": {},
   "outputs": [
    {
     "name": "stdout",
     "output_type": "stream",
     "text": [
      "Word 0 is Python\n",
      "Word 1 is  is\n",
      "Word 2 is awesome\n"
     ]
    }
   ],
   "source": [
    "my_list =['python', 'is','awsome']\n",
    "\n",
    "for i, word in enumerate(my_List):\n",
    "    print(f'Word {i} is {word}')"
   ]
  }
 ],
 "metadata": {
  "kernelspec": {
   "display_name": "Python 3",
   "language": "python",
   "name": "python3"
  },
  "language_info": {
   "codemirror_mode": {
    "name": "ipython",
    "version": 3
   },
   "file_extension": ".py",
   "mimetype": "text/x-python",
   "name": "python",
   "nbconvert_exporter": "python",
   "pygments_lexer": "ipython3",
   "version": "3.12.0"
  }
 },
 "nbformat": 4,
 "nbformat_minor": 5
}
